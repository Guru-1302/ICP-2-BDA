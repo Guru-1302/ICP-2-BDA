{
  "cells": [
    {
      "cell_type": "code",
      "source": [
        " 1a Explain the difference between Counter count and self._count.\n",
        "  Answer:\n",
        "      Counter count:\n",
        "        This is a class variable\n",
        "        It is shared among all instances of the class.\n",
        "        When modified, the change is reflected across all instances.\n",
        "        Accessible via Counter.count or self.count (if not shadowed by an instance attribute).\n",
        "\n",
        "  self.count:\n",
        "        This is an instance variable\n",
        "       Each object (a, b, etc.) has its own separate copy of __count\n",
        "       It is modified and accessed only within that instance."
      ],
      "metadata": {
        "id": "Zs8ce_a89XH1"
      },
      "execution_count": null,
      "outputs": []
    },
    {
      "cell_type": "code",
      "source": [
        "1b.  What is the output of a.get_counts() and b.get_counts()?\n",
        "answer:\n",
        "       Output of a.get_counts() returns Instance count: 2, Class count : 3\n",
        "      output of  b.get_counts() returns Instance count: 1, Class count : 3"
      ],
      "metadata": {
        "id": "UApeyI3m-hp3"
      },
      "execution_count": null,
      "outputs": []
    },
    {
      "cell_type": "code",
      "source": [
        "    1c.  How does the increment method affect both the class and instance variables?\n",
        "    answer:\n",
        "     self.__count (instance variable) increases by 1 — unique per object.\n",
        "    Counter.count (class variable) increases by 1 — reflects cumulative increments across all instances."
      ],
      "metadata": {
        "id": "6j7CVbrp_efr"
      },
      "execution_count": null,
      "outputs": []
    },
    {
      "cell_type": "code",
      "source": [
        "2.\n",
        "#Bug-Free code solution\n",
        "def sum_all(*args):\n",
        "    return sum(args)\n",
        "\n",
        "print(\"Sum of 1, 2, 3 is:\", sum_all(1, 2, 3))\n",
        "print(\"Sum of 4, 5, 6, 7 is:\", sum_all(4, 5, 6, 7))"
      ],
      "metadata": {
        "id": "nZC3QxZ4_1LU",
        "outputId": "dee44a83-10be-4a2f-c920-be1e9313539a",
        "colab": {
          "base_uri": "https://localhost:8080/"
        }
      },
      "execution_count": 3,
      "outputs": [
        {
          "output_type": "stream",
          "name": "stdout",
          "text": [
            "Sum of 1, 2, 3 is: 6\n",
            "Sum of 4, 5, 6, 7 is: 22\n"
          ]
        }
      ]
    },
    {
      "cell_type": "code",
      "source": [
        "3.\n",
        "def first_word(words):\n",
        "    words.sort()\n",
        "    return words[0]\n",
        "\n",
        "students = ['Mary', 'Zelda', 'Jimmy', 'Jack', 'Bartholomew', 'Gertrude']\n",
        "print(first_word(students))"
      ],
      "metadata": {
        "id": "krQcSP_UAs9H",
        "outputId": "a7ef829f-b2d9-41aa-8a23-1f64845a5977",
        "colab": {
          "base_uri": "https://localhost:8080/"
        }
      },
      "execution_count": 4,
      "outputs": [
        {
          "output_type": "stream",
          "name": "stdout",
          "text": [
            "Bartholomew\n"
          ]
        }
      ]
    },
    {
      "cell_type": "code",
      "source": [
        "4.\n",
        "class Employee:\n",
        "    employee_count = 0\n",
        "\n",
        "    def __init__(self, name, family, salary, department):\n",
        "        self.name = name\n",
        "        self.family = family\n",
        "        self.salary = salary\n",
        "        self.department = department\n",
        "        Employee.employee_count += 1\n",
        "\n",
        "    def average_salary(self, total_salary):\n",
        "        return total_salary / Employee.employee_count\n",
        "\n",
        "    def display(self):\n",
        "        print(f\"Name: {self.name}, Family: {self.family}, Salary: {self.salary}, Department: {self.department}\")\n",
        "\n",
        "class FullTimeEmployee(Employee):\n",
        "    def __init__(self, name, family, salary, department):\n",
        "        super().__init__(name, family, salary, department)\n",
        "\n",
        "emp1 = FullTimeEmployee(\"roshan\", \"singh\", 150000, \"COMPUTER SCIENCE\")\n",
        "emp2 = FullTimeEmployee(\"nashor\", \"hingh\", 150000, \"DSA\")\n",
        "\n",
        "emp1.display()\n",
        "emp2.display()\n",
        "\n",
        "total = emp1.salary + emp2.salary\n",
        "print(\"Average Salary:\", emp1.average_salary(total))"
      ],
      "metadata": {
        "id": "CHyAu1PiCCMu",
        "outputId": "60635fe1-68d5-4429-d3f4-e84a32525970",
        "colab": {
          "base_uri": "https://localhost:8080/"
        }
      },
      "execution_count": 7,
      "outputs": [
        {
          "output_type": "stream",
          "name": "stdout",
          "text": [
            "Name: roshan, Family: singh, Salary: 150000, Department: COMPUTER SCIENCE\n",
            "Name: nashor, Family: hingh, Salary: 150000, Department: DSA\n",
            "Average Salary: 150000.0\n"
          ]
        }
      ]
    }
  ],
  "metadata": {
    "colab": {
      "name": "Welcome To Colab",
      "toc_visible": true,
      "provenance": []
    },
    "kernelspec": {
      "display_name": "Python 3",
      "name": "python3"
    }
  },
  "nbformat": 4,
  "nbformat_minor": 0
}